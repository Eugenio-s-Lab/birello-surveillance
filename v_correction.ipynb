{
 "cells": [
  {
   "cell_type": "code",
   "execution_count": null,
   "metadata": {},
   "outputs": [],
   "source": [
    "import numpy as np\n",
    "import matplotlib.pyplot as plt\n",
    "import pandas as pd\n",
    "import matplotlib as mlp\n",
    "import glob\n",
    "from tqdm import tqdm\n",
    "from collections import Counter\n",
    "import seaborn as sns\n",
    "import warnings; warnings.filterwarnings(action='once')\n",
    "from matplotlib import ticker\n",
    "\n",
    "plt.style.use('seaborn-whitegrid')\n",
    "sns.set_style(\"white\",rc={\n",
    "    'xtick.bottom': True,\n",
    "    'ytick.left': True,\n",
    "})\n",
    "plt.rcParams['xtick.major.size'] = 5\n",
    "plt.rcParams['ytick.major.size'] = 5\n",
    "plt.rcParams['xtick.major.width'] = 1\n",
    "plt.rcParams['ytick.major.width'] = 1"
   ]
  },
  {
   "cell_type": "markdown",
   "metadata": {},
   "source": [
    "## Data"
   ]
  },
  {
   "cell_type": "code",
   "execution_count": null,
   "metadata": {},
   "outputs": [],
   "source": [
    "polygons = # Series of strings, names of departments in the country.\n",
    "\n",
    "Rij_vec = # Array of matrices, each matrix being the reconstructed reproduction operator in a certain interval of time. Nodes have polygons' order.\n",
    "\n",
    "calendar = # Dates associated to the entries of Rij_vec. The first entry of calendar corresponds to the date of the first entry of Rij_vec.\n",
    "\n",
    "pop_vec = # Array of populations, nodes have polygons' order. \n",
    "\n",
    "polygons_ind = # codes of polygons, French numbering. Example: Paris is department 75.\n",
    "\n",
    "tot_pop = np.sum(pop_vec) \n",
    "\n",
    "M=len(polygons)"
   ]
  },
  {
   "cell_type": "code",
   "execution_count": null,
   "metadata": {},
   "outputs": [],
   "source": [
    "vt_df=# DataFrame with columns 'Date', names of departments in the country, containing the equilibrium distribution for operators in that week\n",
    "zt_df=# DataFrame with columns 'Date', names of departments in the country, containing v^* in that week\n",
    "xt_df=# DataFrame with columns 'Date', names of departments in the country, containing spatial distribution of cases in that week (cases/total cases)\n",
    "It_df=# DataFrame with columns 'Date', names of departments in the country, containing cases in that week"
   ]
  },
  {
   "cell_type": "code",
   "execution_count": null,
   "metadata": {},
   "outputs": [],
   "source": [
    "zt_df.head()"
   ]
  },
  {
   "cell_type": "code",
   "execution_count": null,
   "metadata": {},
   "outputs": [],
   "source": [
    "cases_daily= #DataFrame with columns 'Date', names of departments in the country, containing DAILY cases (non aggregated)\n",
    "\n",
    "cases_daily.head()"
   ]
  },
  {
   "cell_type": "markdown",
   "metadata": {},
   "source": [
    "# Projection on data"
   ]
  },
  {
   "cell_type": "code",
   "execution_count": null,
   "metadata": {},
   "outputs": [],
   "source": [
    "# Select time intervals over which we compute average v*\n",
    "\n",
    "z_new_int=['2020-11-17','2020-12-15']\n",
    "z_old_int=['2020-10-20','2020-11-17']\n",
    "z_old1_int=['2020-09-22','2020-10-20']\n",
    "z_old2_int=['2020-08-25','2020-09-22']\n",
    "z_old3_int=['2020-07-28','2020-08-25']\n",
    "z_old4_int=['2020-06-30','2020-07-28']\n",
    "\n",
    "# Compute average v*\n",
    "\n",
    "z_new=zt_df.iloc[zt_df[zt_df['Date']==z_new_int[0]].index[0]:zt_df[zt_df['Date']==z_new_int[1]].index[0]+1].iloc[:,2:].mean(axis=0)\n",
    "z_old=zt_df.iloc[zt_df[zt_df['Date']==z_old_int[0]].index[0]:zt_df[zt_df['Date']==z_old_int[1]].index[0]].iloc[:,2:].mean(axis=0)\n",
    "z_old1=zt_df.iloc[zt_df[zt_df['Date']==z_old1_int[0]].index[0]:zt_df[zt_df['Date']==z_old1_int[1]].index[0]].iloc[:,2:].mean(axis=0)\n",
    "z_old2=zt_df.iloc[zt_df[zt_df['Date']==z_old2_int[0]].index[0]:zt_df[zt_df['Date']==z_old2_int[1]].index[0]].iloc[:,2:].mean(axis=0)\n",
    "z_old3=zt_df.iloc[zt_df[zt_df['Date']==z_old3_int[0]].index[0]:zt_df[zt_df['Date']==z_old3_int[1]].index[0]].iloc[:,2:].mean(axis=0)\n",
    "z_old4=zt_df.iloc[zt_df[zt_df['Date']==z_old4_int[0]].index[0]:zt_df[zt_df['Date']==z_old4_int[1]].index[0]].iloc[:,2:].mean(axis=0)\n",
    "\n",
    "# Check cosine similarity between obtained v*\n",
    "\n",
    "print('1 - cos sim = '+str(1-np.dot(z_new,z_old)/(np.linalg.norm(z_new)*np.linalg.norm(z_old))))\n",
    "print('1 - cos sim = '+str(1-np.dot(z_new,z_old1)/(np.linalg.norm(z_new)*np.linalg.norm(z_old1))))\n",
    "print('1 - cos sim = '+str(1-np.dot(z_new,z_old2)/(np.linalg.norm(z_new)*np.linalg.norm(z_old2))))\n",
    "print('1 - cos sim = '+str(1-np.dot(z_new,z_old3)/(np.linalg.norm(z_new)*np.linalg.norm(z_old3))))\n",
    "print('1 - cos sim = '+str(1-np.dot(z_new,z_old4)/(np.linalg.norm(z_new)*np.linalg.norm(z_old4))))"
   ]
  },
  {
   "cell_type": "code",
   "execution_count": null,
   "metadata": {},
   "outputs": [],
   "source": [
    "# Convert date format\n",
    "\n",
    "rng=pd.to_datetime(pd.Series(z_new_int))\n",
    "iso_rng=pd.Series([rng.iloc[i].isocalendar() for i in range(rng.shape[0])])\n",
    "iso_rng_tp=pd.Series([str(iso_rng.iloc[i][0])+str(' W')+str(format(int(iso_rng.iloc[i][1]),'02d')) for i in range(rng.shape[0])])\n",
    "print(iso_rng_tp)"
   ]
  },
  {
   "cell_type": "code",
   "execution_count": null,
   "metadata": {},
   "outputs": [],
   "source": [
    "# Project daily cases on the obtained v*, then print on a csv\n",
    "\n",
    "cases_daily_s=pd.DataFrame(data={'incidence':cases_daily.iloc[:,1:].sum(axis=1),'time':cases_daily['date']})\n",
    "cases_daily_ws_new=pd.DataFrame(data={'incidence':cases_daily.iloc[:,1:].dot(z_new*len(polygons)),'time':cases_daily['date']})\n",
    "cases_daily_ws_old=pd.DataFrame(data={'incidence':cases_daily.iloc[:,1:].dot(z_old*len(polygons)),'time':cases_daily['date']})\n",
    "cases_daily_ws_old1=pd.DataFrame(data={'incidence':cases_daily.iloc[:,1:].dot(z_old1*len(polygons)),'time':cases_daily['date']})\n",
    "cases_daily_ws_old2=pd.DataFrame(data={'incidence':cases_daily.iloc[:,1:].dot(z_old2*len(polygons)),'time':cases_daily['date']})\n",
    "cases_daily_ws_old3=pd.DataFrame(data={'incidence':cases_daily.iloc[:,1:].dot(z_old3*len(polygons)),'time':cases_daily['date']})\n",
    "cases_daily_ws_old4=pd.DataFrame(data={'incidence':cases_daily.iloc[:,1:].dot(z_old4*len(polygons)),'time':cases_daily['date']})\n",
    "\n",
    "display(cases_daily_s[:2])\n",
    "display(cases_daily_ws_new[:2])\n",
    "display(cases_daily_ws_old[:2])   \n",
    "\n",
    "cases_daily_s.to_csv('C:/Users/piero/Documents/PHD/eugenio/SIMULS/Fig4_cases.csv',sep=',')\n",
    "cases_daily_ws_new.to_csv('C:/Users/piero/Documents/PHD/eugenio/SIMULS/Fig4_cases_ws_new.csv',sep=',')\n",
    "cases_daily_ws_old.to_csv('C:/Users/piero/Documents/PHD/eugenio/SIMULS/Fig4_cases_ws_old.csv',sep=',')\n",
    "cases_daily_ws_old1.to_csv('C:/Users/piero/Documents/PHD/eugenio/SIMULS/Fig4_cases_ws_old1.csv',sep=',')\n",
    "cases_daily_ws_old2.to_csv('C:/Users/piero/Documents/PHD/eugenio/SIMULS/Fig4_cases_ws_old2.csv',sep=',')\n",
    "cases_daily_ws_old3.to_csv('C:/Users/piero/Documents/PHD/eugenio/SIMULS/Fig4_cases_ws_old3.csv',sep=',')\n",
    "cases_daily_ws_old4.to_csv('C:/Users/piero/Documents/PHD/eugenio/SIMULS/Fig4_cases_ws_old4.csv',sep=',')"
   ]
  },
  {
   "cell_type": "markdown",
   "metadata": {},
   "source": [
    "Here we use a code in R. In particular, we use the R-package EpiEstim to read projected incidence and compute the reproduction ratio (with confidence intervals).\n",
    "The generation interval distribution for COVID-19 is given as an input as well. In what follows, we elaborate the results. "
   ]
  },
  {
   "cell_type": "code",
   "execution_count": null,
   "metadata": {},
   "outputs": [],
   "source": [
    "S_df_epi = pd.read_csv('C:/Users/piero/Documents/PHD/eugenio/SIMULS/Fig4_epiestim.csv',sep=',',engine='python')\n",
    "S_df_epi_zproj_new = pd.read_csv('C:/Users/piero/Documents/PHD/eugenio/SIMULS/Fig4_epiestim_ws_new.csv',sep=',',engine='python')\n",
    "S_df_epi_zproj_old = pd.read_csv('C:/Users/piero/Documents/PHD/eugenio/SIMULS/Fig4_epiestim_ws_old.csv',sep=',',engine='python')\n",
    "S_df_epi_zproj_old1 = pd.read_csv('C:/Users/piero/Documents/PHD/eugenio/SIMULS/Fig4_epiestim_ws_old1.csv',sep=',',engine='python')\n",
    "S_df_epi_zproj_old2 = pd.read_csv('C:/Users/piero/Documents/PHD/eugenio/SIMULS/Fig4_epiestim_ws_old2.csv',sep=',',engine='python')\n",
    "S_df_epi_zproj_old3 = pd.read_csv('C:/Users/piero/Documents/PHD/eugenio/SIMULS/Fig4_epiestim_ws_old3.csv',sep=',',engine='python')\n",
    "S_df_epi_zproj_old4 = pd.read_csv('C:/Users/piero/Documents/PHD/eugenio/SIMULS/Fig4_epiestim_ws_old4.csv',sep=',',engine='python')\n",
    "\n",
    "S_df_epi.insert(0,'date',np.array(cases_daily_s['time'][3:-4]),True)\n",
    "S_df_epi_zproj_new.insert(0,'date',np.array(cases_daily_s['time'][3:-4]),True)\n",
    "S_df_epi_zproj_old.insert(0,'date',np.array(cases_daily_s['time'][3:-4]),True)\n",
    "S_df_epi_zproj_old1.insert(0,'date',np.array(cases_daily_s['time'][3:-4]),True)\n",
    "S_df_epi_zproj_old2.insert(0,'date',np.array(cases_daily_s['time'][3:-4]),True)\n",
    "S_df_epi_zproj_old3.insert(0,'date',np.array(cases_daily_s['time'][3:-4]),True)\n",
    "S_df_epi_zproj_old4.insert(0,'date',np.array(cases_daily_s['time'][3:-4]),True)\n",
    "\n",
    "S_df_epi['date'] = pd.to_datetime(S_df_epi['date'])\n",
    "S_df_epi_zproj_new['date'] = pd.to_datetime(S_df_epi_zproj_new['date'])\n",
    "S_df_epi_zproj_old['date'] = pd.to_datetime(S_df_epi_zproj_old['date'])\n",
    "S_df_epi_zproj_old1['date'] = pd.to_datetime(S_df_epi_zproj_old1['date'])\n",
    "S_df_epi_zproj_old2['date'] = pd.to_datetime(S_df_epi_zproj_old2['date'])\n",
    "S_df_epi_zproj_old3['date'] = pd.to_datetime(S_df_epi_zproj_old3['date'])\n",
    "S_df_epi_zproj_old4['date'] = pd.to_datetime(S_df_epi_zproj_old4['date'])\n",
    "\n",
    "S_df_epi = S_df_epi.groupby([ pd.Grouper(key='date', freq='W-MON')])[['EE','lower','upper']].mean().reset_index().sort_values('date')\n",
    "S_df_epi_zproj_new = S_df_epi_zproj_new.groupby([ pd.Grouper(key='date', freq='W-MON')])[['EE','lower','upper']].mean().reset_index().sort_values('date')\n",
    "S_df_epi_zproj_old = S_df_epi_zproj_old.groupby([ pd.Grouper(key='date', freq='W-MON')])[['EE','lower','upper']].mean().reset_index().sort_values('date')\n",
    "S_df_epi_zproj_old1 = S_df_epi_zproj_old1.groupby([ pd.Grouper(key='date', freq='W-MON')])[['EE','lower','upper']].mean().reset_index().sort_values('date')\n",
    "S_df_epi_zproj_old2 = S_df_epi_zproj_old2.groupby([ pd.Grouper(key='date', freq='W-MON')])[['EE','lower','upper']].mean().reset_index().sort_values('date')\n",
    "S_df_epi_zproj_old3 = S_df_epi_zproj_old3.groupby([ pd.Grouper(key='date', freq='W-MON')])[['EE','lower','upper']].mean().reset_index().sort_values('date')\n",
    "S_df_epi_zproj_old4 = S_df_epi_zproj_old4.groupby([ pd.Grouper(key='date', freq='W-MON')])[['EE','lower','upper']].mean().reset_index().sort_values('date')\n",
    "\n",
    "S_df_epi['date'] = pd.to_datetime(S_df_epi['date']) - pd.to_timedelta(6, unit='d')\n",
    "S_df_epi_zproj_new['date'] = pd.to_datetime(S_df_epi_zproj_new['date']) - pd.to_timedelta(6, unit='d')\n",
    "S_df_epi_zproj_old['date'] = pd.to_datetime(S_df_epi_zproj_old['date']) - pd.to_timedelta(6, unit='d')\n",
    "S_df_epi_zproj_old1['date'] = pd.to_datetime(S_df_epi_zproj_old1['date']) - pd.to_timedelta(6, unit='d')\n",
    "S_df_epi_zproj_old2['date'] = pd.to_datetime(S_df_epi_zproj_old2['date']) - pd.to_timedelta(6, unit='d')\n",
    "S_df_epi_zproj_old3['date'] = pd.to_datetime(S_df_epi_zproj_old3['date']) - pd.to_timedelta(6, unit='d')\n",
    "S_df_epi_zproj_old4['date'] = pd.to_datetime(S_df_epi_zproj_old4['date']) - pd.to_timedelta(6, unit='d')\n",
    "\n",
    "display(S_df_epi[:2])\n",
    "display(S_df_epi_zproj_new[:2])\n",
    "display(S_df_epi_zproj_old[:2])"
   ]
  },
  {
   "cell_type": "code",
   "execution_count": null,
   "metadata": {},
   "outputs": [],
   "source": [
    "start=S_df_epi[S_df_epi['date']=='2020-12-15'].index[0]\n",
    "stop=S_df_epi[S_df_epi['date']=='2021-03-30'].index[0]\n",
    "dates=pd.to_datetime(S_df_epi.iloc[start:stop].loc[:,'date'])\n",
    "iso_dates=pd.Series([dates.iloc[i].isocalendar() for i in range(dates.shape[0])])\n",
    "iso_dates_tp=pd.Series([str(iso_dates.iloc[i][0])+str(' W')+str(format(int(iso_dates.iloc[i][1]),'02d')) for i in range(dates.shape[0])])"
   ]
  },
  {
   "cell_type": "code",
   "execution_count": null,
   "metadata": {},
   "outputs": [],
   "source": [
    "# Plot\n",
    "\n",
    "fig,ax=plt.subplots(figsize=(10,5),dpi=300)\n",
    "\n",
    "cp=sns.color_palette('Blues',6)\n",
    "ax.axhline(1,0,1,color='dimgrey',linestyle='dashed',alpha=1)\n",
    "\n",
    "ax.plot(iso_dates_tp,S_df_epi['EE'][start:stop],label='uncorrected',color='orchid')\n",
    "ax.fill_between(iso_dates_tp,S_df_epi['lower'][start:stop],S_df_epi['upper'][start:stop],color='orchid',alpha=.3)\n",
    "\n",
    "ax.plot(iso_dates_tp,S_df_epi_zproj_new['EE'][start:stop],label=r'W47-W50',color=cp[-1])\n",
    "ax.plot(iso_dates_tp,S_df_epi_zproj_old['EE'][start:stop],label=r'W43-W46',color=cp[-2])\n",
    "ax.plot(iso_dates_tp,S_df_epi_zproj_old1['EE'][start:stop],label=r'W39-W42',color=cp[-3])\n",
    "ax.plot(iso_dates_tp,S_df_epi_zproj_old2['EE'][start:stop],label=r'W35-W38',color=cp[-4])\n",
    "ax.plot(iso_dates_tp,S_df_epi_zproj_old3['EE'][start:stop],label=r'W31-W34',color=cp[-5])\n",
    "ax.fill_between(iso_dates_tp,S_df_epi_zproj_new['lower'][start:stop],S_df_epi_zproj_new['upper'][start:stop],color=cp[-1],alpha=.3)\n",
    "\n",
    "ax.set_ylim([0.7,1.3])\n",
    "ax.set_xlim(['2020 W51','2021 W12'])\n",
    "ax.tick_params(axis='x',labelsize=15,labelrotation=90)\n",
    "ax.tick_params(axis='y',labelsize=15)\n",
    "ax.yaxis.set_major_formatter(ticker.StrMethodFormatter(\"{x:01.2f}\"))\n",
    "ax.set_ylabel('Reproduction ratio',fontsize=15)\n",
    "_=ax.legend(fontsize=15,frameon=(True),ncol=3,bbox_to_anchor=(.99,0.265))\n",
    "fig.tight_layout()"
   ]
  },
  {
   "cell_type": "code",
   "execution_count": null,
   "metadata": {},
   "outputs": [],
   "source": []
  }
 ],
 "metadata": {
  "kernelspec": {
   "display_name": "Python 3 (ipykernel)",
   "language": "python",
   "name": "python3"
  },
  "language_info": {
   "codemirror_mode": {
    "name": "ipython",
    "version": 3
   },
   "file_extension": ".py",
   "mimetype": "text/x-python",
   "name": "python",
   "nbconvert_exporter": "python",
   "pygments_lexer": "ipython3",
   "version": "3.9.12"
  }
 },
 "nbformat": 4,
 "nbformat_minor": 4
}
