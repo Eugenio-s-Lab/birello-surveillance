{
 "cells": [
  {
   "cell_type": "code",
   "execution_count": null,
   "metadata": {},
   "outputs": [],
   "source": [
    "import numpy as np\n",
    "import matplotlib.pyplot as plt\n",
    "import pandas as pd\n",
    "import geopandas as gp\n",
    "import matplotlib as mpl\n",
    "from matplotlib import ticker\n",
    "import glob\n",
    "from tqdm import tqdm\n",
    "mpl.style.use('bmh')"
   ]
  },
  {
   "cell_type": "markdown",
   "metadata": {},
   "source": [
    "## Data"
   ]
  },
  {
   "cell_type": "markdown",
   "metadata": {},
   "source": [
    "see data availability"
   ]
  },
  {
   "cell_type": "code",
   "execution_count": null,
   "metadata": {},
   "outputs": [],
   "source": [
    "polygons = # array of strings, names of departments in the country\n",
    "\n",
    "dept = # Dataframe containing the population of departments\n",
    "\n",
    "dept_areas = # Dataframe containing areas of departments\n",
    "\n",
    "path_array = # array of file paths in the folder containing colocation data\n",
    "\n",
    "N = len(polygons)"
   ]
  },
  {
   "cell_type": "markdown",
   "metadata": {},
   "source": [
    "## Compute operators"
   ]
  },
  {
   "cell_type": "markdown",
   "metadata": {},
   "source": [
    "build a dictionary to match patches names in the different data"
   ]
  },
  {
   "cell_type": "code",
   "execution_count": null,
   "metadata": {},
   "outputs": [],
   "source": [
    "dict ={}\n",
    "for p, pol in enumerate (polygons):\n",
    "    rep=pol.replace('Ã©', 'e')\n",
    "    rep_=rep.replace('Ã¨','e')\n",
    "    rep__=rep_.replace('Ã´','o')\n",
    "    rep___=rep__.replace('ô','o')\n",
    "    rep____=rep___.replace('è','e')\n",
    "    rep_____=rep____.replace('é','e')\n",
    "    dict[pol]=rep_____.upper()"
   ]
  },
  {
   "cell_type": "markdown",
   "metadata": {},
   "source": [
    "compute reproduction operators"
   ]
  },
  {
   "cell_type": "code",
   "execution_count": null,
   "metadata": {},
   "outputs": [],
   "source": [
    "def Rij_computer (path):\n",
    "    \n",
    "    data = pd.read_csv(path, delimiter=',',engine='python')\n",
    "    FR_data=data[data['country']==country]\n",
    "    \n",
    "    Rij=np.zeros((len(polygons),len(polygons)))\n",
    "    for l in range (len(FR_data)):\n",
    "        i=FR_data.iloc[l].loc['polygon1_name']\n",
    "        I=np.where(polygons==i)\n",
    "        j=FR_data.iloc[l].loc['polygon2_name']\n",
    "        J=np.where(polygons==j)\n",
    "        pop=dept[dept['dept name']==dict[i]].loc[:,'pop 2020'].iloc[0]\n",
    "        Rij[I[0][0]][J[0][0]]=FR_data.iloc[l].loc['link_value']*pop\n",
    "    \n",
    "    return Rij\n",
    "\n",
    "def Rij_plotter (Rij):\n",
    "    \n",
    "    fig,ax=plt.subplots(figsize=(18,18))\n",
    "    im = ax.imshow(Rij,norm=mpl.colors.LogNorm())\n",
    "    cbar = fig.colorbar(im,shrink=.7)\n",
    "    cbar.ax.set_ylabel(r'$R$',rotation=90,fontsize=20)\n",
    "    ax.set_xticks(np.arange(len(polygons)))\n",
    "    ax.set_yticks(np.arange(len(polygons)))\n",
    "    ax.set_xticklabels(polygons,rotation=90)\n",
    "    _=ax.set_yticklabels(polygons)\n",
    "    plt.tight_layout()\n",
    "    plt.show()"
   ]
  },
  {
   "cell_type": "code",
   "execution_count": null,
   "metadata": {},
   "outputs": [],
   "source": [
    "Rij_vec=[]\n",
    "for path_ in tqdm(path_arr):\n",
    "    Rij_vec.append(Rij_computer(path_))"
   ]
  },
  {
   "cell_type": "code",
   "execution_count": null,
   "metadata": {},
   "outputs": [],
   "source": [
    "cal=[]\n",
    "for path_ in (path_arr):\n",
    "    cal.append(path_[-14:-4])\n",
    "calendar=np.array(cal)\n",
    "print(len(calendar))"
   ]
  },
  {
   "cell_type": "code",
   "execution_count": null,
   "metadata": {},
   "outputs": [],
   "source": [
    "Rij_plotter(Rij_vec[20])"
   ]
  },
  {
   "cell_type": "markdown",
   "metadata": {},
   "source": [
    "## StayPut Correction"
   ]
  },
  {
   "cell_type": "markdown",
   "metadata": {},
   "source": [
    "read stayput data from 2020 and 2021, aggregate them weekly with the same convention as colocation data, concatenate"
   ]
  },
  {
   "cell_type": "code",
   "execution_count": null,
   "metadata": {},
   "outputs": [],
   "source": [
    "path_stayput_2020= # path\n",
    "path_stayput_2021= # path\n",
    "data_stayput_2020 = pd.read_csv(path_stayput_2020,engine='python',sep=\"\\t\")\n",
    "data_stayput_2021 = pd.read_csv(path_stayput_2021,engine='python',sep=\"\\t\")\n",
    "\n",
    "stayput_2020=data_stayput_2020[data_stayput_2020['country']==country_sp]\n",
    "stayput_2021=data_stayput_2021[data_stayput_2021['country']==country_sp]\n",
    "\n",
    "stayput_2020['ds'] = pd.to_datetime(stayput_2020['ds'])\n",
    "stayput_2020 = stayput_2020.groupby(['polygon_name', pd.Grouper(key='ds', freq='W-MON')])['all_day_ratio_single_tile_users'].sum().reset_index().sort_values('ds')\n",
    "stayput_2020['ds'] = pd.to_datetime(stayput_2020['ds']) - pd.to_timedelta(6, unit='d')\n",
    "\n",
    "stayput_2021['ds'] = pd.to_datetime(stayput_2021['ds'])\n",
    "stayput_2021 = stayput_2021.groupby(['polygon_name', pd.Grouper(key='ds', freq='W-MON')])['all_day_ratio_single_tile_users'].sum().reset_index().sort_values('ds')\n",
    "stayput_2021['ds'] = pd.to_datetime(stayput_2021['ds']) - pd.to_timedelta(6, unit='d')\n",
    "\n",
    "stayput = pd.concat([stayput_2020, stayput_2021])"
   ]
  },
  {
   "cell_type": "markdown",
   "metadata": {},
   "source": [
    "build a new dictionary to match patches names in different data"
   ]
  },
  {
   "cell_type": "code",
   "execution_count": null,
   "metadata": {},
   "outputs": [],
   "source": [
    "dict_pol_reg={}\n",
    "dict_pol_reg_={}\n",
    "for p, pol in enumerate (polygons):\n",
    "    reg_name=dept[dept['dept name']==dict[pol]].loc[:,'reg name'].iloc[0]\n",
    "\n",
    "    r=reg_name.replace('Ã´','-')\n",
    "    r_=r.replace('Ã©','-')\n",
    "    r__=r_.replace('ÃŽ','-')\n",
    "    r___=r__.replace('Ã¨','-')\n",
    "    r____=r___.replace('Î','-')\n",
    "    r_____=r____.replace('é','-') \n",
    "    r______=r_____.replace('ô','-')\n",
    "    dict_pol_reg_[pol]=r______\n",
    "\n",
    "    r=reg_name.replace('Î','ÃŽ')\n",
    "    r_=r.replace('é','Ã©') \n",
    "    r__=r_.replace('ô','Ã´')\n",
    "    dict_pol_reg[pol]=r__"
   ]
  },
  {
   "cell_type": "markdown",
   "metadata": {},
   "source": [
    "correct reproduction operators"
   ]
  },
  {
   "cell_type": "code",
   "execution_count": null,
   "metadata": {},
   "outputs": [],
   "source": [
    "Rij_vec_sp=Rij_vec.copy()\n",
    "\n",
    "for r,R in tqdm(enumerate(Rij_vec)):\n",
    "    for l in range (len(R)):\n",
    "        pol=polygons.iloc[l]\n",
    "        reg=dict_pol_reg[pol]\n",
    "        reg_=dict_pol_reg_[pol]\n",
    "        #print(reg,reg_,pd.to_datetime(path_arr[r][-14:-4]))\n",
    "        pop=dept[dept['dept name']==dict[pol]].loc[:,'pop 2020'].iloc[0]\n",
    "        dep_area=float(dept_areas[dept_areas['DEPARTMENT']==dict[pol]].loc[:,'AREA'].iloc[0])\n",
    "        d=pop/dep_area\n",
    "        \n",
    "        if (pd.to_datetime(path_arr[r][-14:-4])>pd.to_datetime('2020-08-25')):\n",
    "            a=stayput[stayput['polygon_name']==reg]\n",
    "        else:\n",
    "            a=stayput[stayput['polygon_name']==reg_]\n",
    "        \n",
    "        sp7=a[a['ds']==path_arr[r][-14:-4]].loc[:,'all_day_ratio_single_tile_users'].iloc[0]\n",
    "        sp=sp7/7\n",
    "        R_sp=sp*(d*0.36)\n",
    "        Rij_vec_sp[r][l][l]-=R_sp"
   ]
  },
  {
   "cell_type": "code",
   "execution_count": null,
   "metadata": {},
   "outputs": [],
   "source": [
    "Rij_plotter(Rij_vec_sp[20])"
   ]
  },
  {
   "cell_type": "markdown",
   "metadata": {},
   "source": [
    "## Compare"
   ]
  },
  {
   "cell_type": "code",
   "execution_count": null,
   "metadata": {},
   "outputs": [],
   "source": [
    "polygons_ind=[]\n",
    "for p, pol in enumerate (polygons):\n",
    "    polygons_ind.append(dept[dept['dept name']==dict[pol]].loc[:,'dept'].iloc[0])\n",
    "polygons_ind=np.array(polygons_ind)"
   ]
  },
  {
   "cell_type": "code",
   "execution_count": null,
   "metadata": {},
   "outputs": [],
   "source": [
    "a='2021-02-02'\n",
    "Rij_uncorrected=Rij_vec[np.where(calendar==a)[0][0]]\n",
    "Rij_corrected=Rij_vec_sp[np.where(calendar==a)[0][0]]\n",
    "correction=[Rij_uncorrected[i][i]-Rij_corrected[i][i] for i in range(len(polygons))]\n",
    "relative_correction=[(Rij_uncorrected[i][i]-Rij_corrected[i][i])/Rij_uncorrected[i][i] for i in range(len(polygons))]"
   ]
  },
  {
   "cell_type": "code",
   "execution_count": null,
   "metadata": {},
   "outputs": [],
   "source": [
    "shp_filename = # name of the shp file \n",
    "shp = gp.read_file(shp_filename)\n",
    "ss = '+proj=lcc +lat_1=49 +lat_2=44 +lat_0=46.5 +lon_0=3 +x_0=700000 +y_0=6600000 +ellps=GRS80 +towgs84=0,0,0,0,0,0,0 +units=m +no_defs '\n",
    "shp = shp.to_crs(ss)\n",
    "\n",
    "# Remove Corsica\n",
    "shp.drop(shp.index[shp['dept'] == '2A'], inplace = True)\n",
    "shp.drop(shp.index[shp['dept'] == '2B'], inplace = True)\n",
    "shp=shp.reset_index(drop=True)\n",
    "\n",
    "shp = shp.assign(centroid=shp.centroid)\n",
    "\n",
    "shp['dept'] = shp['dept'].astype('category')\n",
    "shp['dept'] = shp['dept'].cat.set_categories(polygons_ind)\n",
    "shp=shp.sort_values('dept').reset_index(drop=True)"
   ]
  },
  {
   "cell_type": "code",
   "execution_count": null,
   "metadata": {},
   "outputs": [],
   "source": [
    "shp_correction=shp.copy()\n",
    "shp_correction['correction']=correction\n",
    "shp_correction['relative_correction']=relative_correction\n",
    "shp_correction.head()"
   ]
  },
  {
   "cell_type": "code",
   "execution_count": null,
   "metadata": {},
   "outputs": [],
   "source": [
    "plt.rcParams['xtick.minor.size'] = 3\n",
    "plt.rcParams['ytick.minor.size'] = 3\n",
    "plt.rcParams['xtick.minor.width'] = .5\n",
    "plt.rcParams['ytick.minor.width'] = .5\n",
    "\n",
    "min_value_=shp_correction.loc[:,'correction'].min()\n",
    "max_value_=shp_correction.loc[:,'correction'].max()\n",
    "fig,ax=plt.subplots(figsize=(5,5),dpi=150)\n",
    "cmap='Purples'\n",
    "shp_correction.plot(ax=ax, column='correction', lw=0.2, legend=False,cmap=cmap,norm=mpl.colors.LogNorm(vmin=min_value_,vmax=max_value_))\n",
    "sm = plt.cm.ScalarMappable(cmap=cmap, norm=mpl.colors.LogNorm(vmin=min_value_,vmax=max_value_))\n",
    "sm.set_array([])\n",
    "cbar = plt.colorbar(sm,shrink=.7,ax=ax) \n",
    "minor_locator = ticker.LogLocator(numticks=10)\n",
    "cbar.ax.yaxis.set_major_locator(minor_locator)\n",
    "ax.axis('off')\n",
    "ax.set_title('stayput correction',fontsize=12)"
   ]
  },
  {
   "cell_type": "code",
   "execution_count": null,
   "metadata": {},
   "outputs": [],
   "source": [
    "plt.rcParams['xtick.minor.size'] = 3\n",
    "plt.rcParams['ytick.minor.size'] = 3\n",
    "plt.rcParams['xtick.minor.width'] = .5\n",
    "plt.rcParams['ytick.minor.width'] = .5\n",
    "\n",
    "min_value_=shp_correction.loc[:,'relative_correction'].min()\n",
    "max_value_=shp_correction.loc[:,'relative_correction'].max()\n",
    "fig,ax=plt.subplots(figsize=(5,5),dpi=150)\n",
    "cmap='Purples'\n",
    "shp_correction.plot(ax=ax, column='relative_correction', lw=0.2, legend=False,cmap=cmap,norm=mpl.colors.LogNorm(vmin=min_value_,vmax=max_value_))\n",
    "sm = plt.cm.ScalarMappable(cmap=cmap, norm=mpl.colors.LogNorm(vmin=min_value_,vmax=max_value_))\n",
    "sm.set_array([])\n",
    "cbar = plt.colorbar(sm,shrink=.7,ax=ax) \n",
    "minor_locator = ticker.LogLocator(numticks=10)\n",
    "cbar.ax.yaxis.set_major_locator(minor_locator)\n",
    "ax.axis('off')\n",
    "ax.set_title('stayput relative correction',fontsize=12)"
   ]
  },
  {
   "cell_type": "code",
   "execution_count": null,
   "metadata": {},
   "outputs": [],
   "source": []
  }
 ],
 "metadata": {
  "kernelspec": {
   "display_name": "Python 3 (ipykernel)",
   "language": "python",
   "name": "python3"
  },
  "language_info": {
   "codemirror_mode": {
    "name": "ipython",
    "version": 3
   },
   "file_extension": ".py",
   "mimetype": "text/x-python",
   "name": "python",
   "nbconvert_exporter": "python",
   "pygments_lexer": "ipython3",
   "version": "3.9.12"
  }
 },
 "nbformat": 4,
 "nbformat_minor": 4
}
