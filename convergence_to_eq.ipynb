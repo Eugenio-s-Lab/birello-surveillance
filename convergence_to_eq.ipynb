{
 "cells": [
  {
   "cell_type": "code",
   "execution_count": null,
   "metadata": {},
   "outputs": [],
   "source": [
    "import numpy as np\n",
    "import scipy\n",
    "import matplotlib.pyplot as plt\n",
    "import pandas as pd\n",
    "import matplotlib as mlp\n",
    "import glob\n",
    "from tqdm import tqdm\n",
    "import seaborn as sns\n",
    "import warnings; warnings.filterwarnings(action='once')\n",
    "from matplotlib import ticker\n",
    "import geopandas as gp\n",
    "import matplotlib.dates as mdates\n",
    "\n",
    "plt.style.use('seaborn-whitegrid')\n",
    "sns.set_style(\"white\",rc={\n",
    "    'xtick.bottom': True,\n",
    "    'ytick.left': True,\n",
    "})\n",
    "plt.rcParams['xtick.major.size'] = 5\n",
    "plt.rcParams['ytick.major.size'] = 5\n",
    "plt.rcParams['xtick.major.width'] = 1\n",
    "plt.rcParams['ytick.major.width'] = 1"
   ]
  },
  {
   "cell_type": "markdown",
   "metadata": {},
   "source": [
    "## Data"
   ]
  },
  {
   "cell_type": "code",
   "execution_count": null,
   "metadata": {},
   "outputs": [],
   "source": [
    "polygons = # Series of strings, names of departments in the country.\n",
    "\n",
    "Rij_vec = # Array of matrices, each matrix being the reconstructed reproduction operator in a certain interval of time. Nodes have polygons' order.\n",
    "\n",
    "calendar = # Dates associated to the entries of Rij_vec. The first entry of calendar corresponds to the date of the first entry of Rij_vec.\n",
    "\n",
    "pop_vec = # Array of populations, nodes have polygons' order. \n",
    "\n",
    "polygons_ind = # codes of polygons, French numbering. Example: Paris is department 75.\n",
    "\n",
    "tot_pop = np.sum(pop_vec) \n",
    "\n",
    "M=len(polygons)\n",
    "\n",
    "vt_df = # DataFrame with columns 'Date', names of departments in the country, containing the equilibrium distribution for operators at that date\n",
    "\n",
    "xt_df= # DataFrame with columns 'Date', names of departments in the country, containing spatial distribution of cases at the date (cases/total cases)"
   ]
  },
  {
   "cell_type": "markdown",
   "metadata": {},
   "source": [
    "## Select time interval, compute similarity measures"
   ]
  },
  {
   "cell_type": "code",
   "execution_count": null,
   "metadata": {},
   "outputs": [],
   "source": [
    "start=vt_df[vt_df['Date']=='2020-12-15'].index[0]\n",
    "stop=vt_df[vt_df['Date']=='2021-03-30'].index[0]\n",
    "vt_df_ss=vt_df.iloc[start:stop,2:]\n",
    "xt_df_ss=xt_df.iloc[start:stop,2:]\n",
    "\n",
    "dates=pd.to_datetime(vt_df.iloc[start:stop].loc[:,'Date'])\n",
    "iso_dates=pd.Series([dates.iloc[i].isocalendar() for i in range(dates.shape[0])])\n",
    "iso_dates_tp=pd.Series([str(iso_dates.iloc[i][0])+str(' W')+str(format(int(iso_dates.iloc[i][1]),'02d')) for i in range(dates.shape[0])])"
   ]
  },
  {
   "cell_type": "code",
   "execution_count": null,
   "metadata": {},
   "outputs": [],
   "source": [
    "v_bar=vt_df_ss.mean()\n",
    "v_bar=v_bar/v_bar.sum()\n",
    "v_bar_norm=np.linalg.norm(v_bar)\n",
    "angles_vv=[]\n",
    "cos_vv=[]\n",
    "angles_xv=[]\n",
    "cos_xv=[]\n",
    "for i in range(vt_df_ss.shape[0]):\n",
    "    a=vt_df_ss.iloc[i]\n",
    "    b=xt_df_ss.iloc[i]\n",
    "    angles_vv.append(np.arccos(np.dot(a,v_bar)/(np.linalg.norm(a)*v_bar_norm))/np.pi*180)\n",
    "    cos_vv.append(1-np.dot(a,v_bar)/(np.linalg.norm(a)*v_bar_norm))\n",
    "    angles_xv.append(np.arccos(np.dot(b,v_bar)/(np.linalg.norm(b)*v_bar_norm))/np.pi*180)\n",
    "    cos_xv.append(1-np.dot(b,v_bar)/(np.linalg.norm(b)*v_bar_norm))"
   ]
  },
  {
   "cell_type": "code",
   "execution_count": null,
   "metadata": {},
   "outputs": [],
   "source": [
    "fig,ax=plt.subplots(figsize=(11,5))\n",
    "\n",
    "shd=[4,12]\n",
    "ax_=ax.twinx()\n",
    "ax.plot(iso_dates_tp,cos_vv,color='darkorange')\n",
    "ax.fill_between(iso_dates_tp[shd[0]:shd[1]],np.ones(shd[1]-shd[0])*.005,np.ones(shd[1]-shd[0])*-.0002,alpha=.3,color='silver')\n",
    "ax_.plot(iso_dates_tp,cos_xv,color='forestgreen')\n",
    "\n",
    "ax.set_ylabel(r'Cosine distance $v(t)$ and $\\widebar{v}$',fontsize=15,color='darkorange')\n",
    "ax_.set_ylabel(r'Cosine distance $x(t)$ and $\\widebar{v}$',fontsize=15,color='forestgreen')\n",
    "ax.tick_params(axis='y',labelsize=15)\n",
    "ax.tick_params(axis='x',labelsize=15,labelrotation=90)\n",
    "ax_.tick_params(axis='y',labelsize=15)\n",
    "ax.yaxis.set_major_formatter(ticker.StrMethodFormatter(\"{x:01.3f}\"))\n",
    "ax_.yaxis.set_major_formatter(ticker.StrMethodFormatter(\"{x:01.2f}\"))\n",
    "ax.set_ylim([-.0002,.005])\n",
    "ax_.set_ylim([.49,.75])\n",
    "ax.set_xlim(['2020 W51','2021 W12'])\n",
    "ax_.set_xlim(['2020 W51','2021 W12'])\n",
    "fig.tight_layout()\n",
    "#fig.savefig('C:/Users/piero/Documents/PHD/eugenio/PLOTS/Fig2/Fig2_twinx_July_w')"
   ]
  },
  {
   "cell_type": "markdown",
   "metadata": {},
   "source": [
    "# Maps"
   ]
  },
  {
   "cell_type": "code",
   "execution_count": null,
   "metadata": {},
   "outputs": [],
   "source": [
    "shp = gp.read_file('C:/Users/piero/Documents/PCS/INTERNSHIP/Letteratura/France_map/dept/dept.shp')\n",
    "ss = '+proj=lcc +lat_1=49 +lat_2=44 +lat_0=46.5 +lon_0=3 +x_0=700000 +y_0=6600000 +ellps=GRS80 +towgs84=0,0,0,0,0,0,0 +units=m +no_defs '\n",
    "shp = shp.to_crs(ss)\n",
    "\n",
    "# Remove Corsica\n",
    "shp.drop(shp.index[shp['dept'] == '2A'], inplace = True)\n",
    "shp.drop(shp.index[shp['dept'] == '2B'], inplace = True)\n",
    "shp=shp.reset_index(drop=True)\n",
    "\n",
    "shp = shp.assign(centroid=shp.centroid)\n",
    "\n",
    "shp['dept'] = shp['dept'].astype('category')\n",
    "shp['dept'] = shp['dept'].cat.set_categories(polygons_ind)\n",
    "shp=shp.sort_values('dept').reset_index(drop=True)"
   ]
  },
  {
   "cell_type": "code",
   "execution_count": null,
   "metadata": {},
   "outputs": [],
   "source": [
    "start_x=xt_df[xt_df['Date']=='2021-01-12'].copy()\n",
    "start_x=start_x.iloc[:,2:]\n",
    "start_x.columns=polygons_ind\n",
    "start_x=pd.Series(start_x.iloc[0])\n",
    "start_x=list(start_x)\n",
    "\n",
    "end_x=xt_df[xt_df['Date']=='2021-03-02'].copy()\n",
    "end_x=end_x.iloc[:,2:]\n",
    "end_x.columns=polygons_ind\n",
    "end_x=pd.Series(end_x.iloc[0])\n",
    "end_x=list(end_x)"
   ]
  },
  {
   "cell_type": "code",
   "execution_count": null,
   "metadata": {},
   "outputs": [],
   "source": [
    "shp_start_=shp.copy()\n",
    "shp_start_['start_x']=(start_x)\n",
    "shp_start_['end_x']=(end_x)\n",
    "shp_start_['v_bar']=(list(v_bar))\n",
    "shp_start_"
   ]
  },
  {
   "cell_type": "markdown",
   "metadata": {},
   "source": [
    "# Inset"
   ]
  },
  {
   "cell_type": "code",
   "execution_count": null,
   "metadata": {},
   "outputs": [],
   "source": [
    "plt.rcParams['xtick.minor.size'] = 3\n",
    "plt.rcParams['ytick.minor.size'] = 3\n",
    "plt.rcParams['xtick.minor.width'] = 1\n",
    "plt.rcParams['ytick.minor.width'] = 1"
   ]
  },
  {
   "cell_type": "code",
   "execution_count": null,
   "metadata": {},
   "outputs": [],
   "source": [
    "fig,ax=plt.subplots(figsize=(11,5),dpi=300)\n",
    "\n",
    "shd=[4,12]\n",
    "ax_=ax.twinx()\n",
    "ax.plot(iso_dates_tp,cos_vv,color='darkorange',linewidth=4)\n",
    "ax.fill_between(iso_dates_tp[shd[0]:shd[1]],np.ones(shd[1]-shd[0])*.005,np.ones(shd[1]-shd[0])*-.0002,alpha=.3,color='silver')\n",
    "ax_.plot(iso_dates_tp,cos_xv,color='forestgreen',linewidth=4)\n",
    "\n",
    "ax.set_ylabel(r'Cosine distance between $v(t)$ and $\\widebar{v}$',fontsize=15,color='darkorange')\n",
    "ax_.set_ylabel(r'Cosine distance between $x(t)$ and $\\widebar{v}$',fontsize=15,color='forestgreen')\n",
    "ax.tick_params(axis='y',labelsize=15)\n",
    "ax.tick_params(axis='x',labelsize=15,labelrotation=90)\n",
    "ax_.tick_params(axis='y',labelsize=15)\n",
    "ax.yaxis.set_major_formatter(ticker.StrMethodFormatter(\"{x:01.3f}\"))\n",
    "ax_.yaxis.set_major_formatter(ticker.StrMethodFormatter(\"{x:01.2f}\"))\n",
    "ax.set_ylim([-.0002,.005])\n",
    "ax_.set_ylim([.49,.75])\n",
    "ax.set_xlim(['2020 W51','2021 W12'])\n",
    "ax_.set_xlim(['2020 W51','2021 W12'])\n",
    "\n",
    "box=[0.509, 0.578, 0.4, 0.4]\n",
    "box_=[0.699, 0.578, 0.4, 0.4]\n",
    "axins = ax.inset_axes(box)\n",
    "axins_ = ax.inset_axes(box_)\n",
    "axins.get_xaxis().set_ticks([])\n",
    "axins_.get_xaxis().set_ticks([])\n",
    "axins.get_yaxis().set_ticks([])\n",
    "axins_.get_yaxis().set_ticks([])\n",
    "axins.set(facecolor='w')\n",
    "axins_.set(facecolor='w')\n",
    "\n",
    "min_value_=min(np.min(shp_start_['start_x']),np.min(shp_start_['end_x']))#,np.min(shp_start['v_bar']))\n",
    "max_value_=max(np.max(shp_start_['start_x']),np.max(shp_start_['end_x']))#,np.max(shp_start['v_bar']))\n",
    "cmap='YlGn'\n",
    "shp_start_.plot(ax=axins, column='start_x', lw=0.2, legend=None,cmap=cmap, norm=mlp.colors.LogNorm(vmin=min_value_,vmax=max_value_))\n",
    "shp_start_.plot(ax=axins_, column='end_x', lw=0.2, legend=None,cmap=cmap, norm=mlp.colors.LogNorm(vmin=min_value_,vmax=max_value_))#,legend_kwds={'label': 'Log(x)', 'shrink': 0.7})\n",
    "\n",
    "cbar_axim = fig.add_axes([0.648, 0.52, 0.2, 0.02])\n",
    "sm = plt.cm.ScalarMappable(cmap=cmap, norm=mlp.colors.LogNorm(vmin=min_value_,vmax=max_value_))\n",
    "sm.set_array([])\n",
    "cbar = plt.colorbar(sm,shrink=.2,cax=cbar_axim,orientation='horizontal')#,label='$Log(x)$')\n",
    "cbar.ax.tick_params(labelsize=12,direction='in')\n",
    "#cbar.locator = ticker.MaxNLocator(10)  \n",
    "minor_tick_locs = np.logspace(np.log10(min_value_), np.log10(max_value_), num=10)\n",
    "minor_locator = ticker.LogLocator(numticks=10)# subs=minor_tick_locs)\n",
    "cbar.ax.xaxis.set_major_locator(minor_locator)\n",
    "cbar.set_label(r'$x$',fontsize=12)\n",
    "\n",
    "ax.plot([0.785,0.988],[0.1,0.577],transform=ax.transAxes,color='k',linewidth=.8)\n",
    "ax.plot([0.284,0.621],[0.738,0.978],transform=ax.transAxes,color='k',linewidth=.8)\n",
    "#fig.tight_layout()\n",
    "#fig.savefig('C:/Users/piero/Documents/PHD/eugenio/PLOTS/Fig2/Fig2_twinx_maps_line',bbox_inches='tight')\n",
    "#fig.savefig('C:/Users/piero/Documents/PHD/eugenio/PLOTS/paper/Figure1a.svg',bbox_inches='tight')\n",
    "#fig.savefig('C:/Users/piero/Documents/PHD/eugenio/PLOTS/paper/Figure1a.pdf',bbox_inches='tight')"
   ]
  }
 ],
 "metadata": {
  "kernelspec": {
   "display_name": "Python 3 (ipykernel)",
   "language": "python",
   "name": "python3"
  },
  "language_info": {
   "codemirror_mode": {
    "name": "ipython",
    "version": 3
   },
   "file_extension": ".py",
   "mimetype": "text/x-python",
   "name": "python",
   "nbconvert_exporter": "python",
   "pygments_lexer": "ipython3",
   "version": "3.9.12"
  }
 },
 "nbformat": 4,
 "nbformat_minor": 4
}
