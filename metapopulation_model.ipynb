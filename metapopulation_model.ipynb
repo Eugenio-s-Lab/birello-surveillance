{
 "cells": [
  {
   "cell_type": "code",
   "execution_count": null,
   "metadata": {},
   "outputs": [],
   "source": [
    "import numpy as np\n",
    "import scipy\n",
    "import matplotlib.pyplot as plt\n",
    "import pandas as pd\n",
    "import matplotlib as mpl\n",
    "import glob\n",
    "from tqdm import tqdm\n",
    "\n",
    "import seaborn as sns\n",
    "import warnings; warnings.filterwarnings(action='once')\n",
    "plt.style.use('seaborn-whitegrid')\n",
    "sns.set_style(\"white\",rc={\n",
    "    'xtick.bottom': True,\n",
    "    'ytick.left': True,\n",
    "})\n",
    "plt.rcParams['xtick.major.size'] = 5\n",
    "plt.rcParams['ytick.major.size'] = 5\n",
    "plt.rcParams['xtick.major.width'] = 1\n",
    "plt.rcParams['ytick.major.width'] = 1"
   ]
  },
  {
   "cell_type": "markdown",
   "metadata": {},
   "source": [
    "## Data\n",
    "See data availability"
   ]
  },
  {
   "cell_type": "code",
   "execution_count": null,
   "metadata": {},
   "outputs": [],
   "source": [
    "polygons = # array of strings, names of departments in the country\n",
    "\n",
    "Rij_vec = # Array of matrices, each matrix being the reconstructed reproduction operator in a certain interval of time. Nodes have polygons' order.\n",
    "\n",
    "calendar = # Dates associated to the entries of Rij_vec. The first entry of calendar corresponds to the date of the first entry of Rij_vec\n",
    "\n",
    "pop_vec = # Array of populations, nodes have polygons' order. \n",
    "\n",
    "tot_pop = np.sum(pop_vec)\n",
    "\n",
    "N = len(polygons)"
   ]
  },
  {
   "cell_type": "markdown",
   "metadata": {},
   "source": [
    "## SEIIR model"
   ]
  },
  {
   "cell_type": "code",
   "execution_count": null,
   "metadata": {},
   "outputs": [],
   "source": [
    "params={'beta': 0.00068/9.1, 'mu': 1/(7+2.1), 'beta_I' : 0.51, 'epsilon' : 1/3.7, 'p_sc' : 0.32}\n",
    "delta_T=1\n",
    "N0=pop_vec\n",
    "a=np.where(calendar=='2021-02-02')[0][0]\n",
    "R_interval=[Rij_vec[a-1],Rij_vec[a],Rij_vec[a+1],Rij_vec[a+2]]\n",
    "Q_2021_02_02=np.mean(R_interval,0)\n",
    "def SEIIR_model (I0, E0=np.zeros(len(polygons)), R0=np.zeros(len(polygons)), T=7*len(Rij_vec),Q=Q_2021_02_02, pars=params):\n",
    "    \n",
    "    S=np.zeros((T+1,len(polygons)))\n",
    "    E=np.zeros((T+1,len(polygons)))\n",
    "    I_sc=np.zeros((T+1,len(polygons)))\n",
    "    I_c=np.zeros((T+1,len(polygons)))\n",
    "    R=np.zeros((T+1,len(polygons)))\n",
    "    I_inc=np.zeros((T+1,len(polygons)))\n",
    "    N=N0.copy()\n",
    "    #present time variables\n",
    "    Et=E0.copy()\n",
    "    It_sc=(I0*pars['p_sc']).astype(int)\n",
    "    It_c=I0-It_sc\n",
    "    Rt=R0.copy()\n",
    "    St=N-Rt-It_sc-It_c\n",
    "    \n",
    "    E[0]=Et.copy()\n",
    "    I_sc[0]=It_sc.copy()\n",
    "    I_c[0]=It_c.copy()\n",
    "    R[0]=Rt.copy()\n",
    "    S[0]=St.copy()\n",
    "    I_inc[0]=It_sc+It_c\n",
    "    \n",
    "    p_mu=1-np.exp(-pars['mu']*delta_T)\n",
    "    p_beta=1-np.exp(-pars['beta']*delta_T)\n",
    "    p_beta_I=1-np.exp(-pars['beta']*pars['beta_I']*delta_T)\n",
    "    p_epsilon=1-np.exp(-pars['epsilon']*delta_T)\n",
    "    \n",
    "    for t in range(T):\n",
    "        for i in range(len(polygons)):\n",
    "            \n",
    "            R_sc_new=np.random.binomial(n=It_sc[i], p=p_mu)\n",
    "            It_sc[i]-=R_sc_new\n",
    "            R_c_new=np.random.binomial(n=It_c[i], p=p_mu)\n",
    "            It_c[i]-=R_c_new\n",
    "            Rt[i]+=(R_sc_new+R_c_new)\n",
    "            \n",
    "            I_sc_new=np.random.binomial(n=Et[i],p=p_epsilon*pars['p_sc'])\n",
    "            Et[i]-=I_sc_new\n",
    "            It_sc[i]+=I_sc_new\n",
    "            I_c_new=np.random.binomial(n=Et[i],p=p_epsilon*(1-pars['p_sc']))\n",
    "            It_c[i]+=I_c_new\n",
    "            Et[i]-=I_c_new\n",
    "            I_inc[t+1][i]=I_sc_new+I_c_new\n",
    "            \n",
    "            proba_beta=np.dot( Q[:,i],(p_beta_I*It_sc[:]+p_beta*It_c[:])/N[:] )\n",
    "            E_new=np.random.binomial(n=St[i], p=proba_beta)\n",
    "            Et[i]+=E_new\n",
    "            \n",
    "        St=N-Rt-It_sc-It_c-Et\n",
    "        E[t+1]=Et.copy()\n",
    "        I_sc[t+1]=It_sc.copy()\n",
    "        I_c[t+1]=It_c.copy()\n",
    "        R[t+1]=Rt.copy()\n",
    "        S[t+1]=St.copy()\n",
    "    return ([S,E,I_sc,I_c,R,I_inc])"
   ]
  },
  {
   "cell_type": "markdown",
   "metadata": {},
   "source": [
    "## Algebra"
   ]
  },
  {
   "cell_type": "code",
   "execution_count": null,
   "metadata": {},
   "outputs": [],
   "source": [
    "Rfrance=1.5\n",
    "beta=Rfrance*params['mu']/(np.sort(np.linalg.eig(Q_2021_02_02)[0])[-1]*(1-params['p_sc']+params['beta_I']*params['p_sc']))\n",
    "print (beta)\n",
    "params['beta']=beta\n",
    "eff_beta=params['beta']*(np.sort(np.linalg.eig(Q_2021_02_02)[0])[-1]*(1-params['p_sc']+params['beta_I']*params['p_sc']))\n",
    "print(eff_beta)\n",
    "over_beta=params['beta']*(np.sort(np.linalg.eig(Q_2021_02_02)[0])[-1])\n",
    "print(over_beta)"
   ]
  },
  {
   "cell_type": "code",
   "execution_count": null,
   "metadata": {},
   "outputs": [],
   "source": [
    "w,vl,vr=scipy.linalg.eig(Q_2021_02_02,left=True)\n",
    "v=[]\n",
    "z=[]\n",
    "for u,wu in enumerate (w):\n",
    "    v.append(vr[:,u]/np.sum(vr[:,u]))\n",
    "    z.append(vl[:,u]/np.sum(vl[:,u]))\n",
    "v=np.array(v)\n",
    "z=np.array(z)\n",
    "max_v=v[w.argmax()] \n",
    "max_z=z[w.argmax()]\n",
    "projectors=np.array([[[v[alpha][j]*z[alpha][k] for k in range(N)] for j in range(N)] for alpha in range(N)])\n",
    "\n",
    "#-----------------------------------------------------------------\n",
    "\n",
    "for i in range (1,10):\n",
    "    if(max_v[0]<0):\n",
    "        v[np.argsort(w)[-i]]*=(-1)\n",
    "    if(max_z[0]<0):\n",
    "        z[np.argsort(w)[-i]]*=(-1)\n",
    "    v_rank=v[np.argsort(w)[-i]]\n",
    "    print(polygons.iloc[v_rank.argmax()],np.sort(w)[-i])\n",
    "print('-')\n",
    "for i in range (1,10):\n",
    "    print(polygons.iloc[np.argsort(max_v)[-i]],np.sort(max_v)[-i])"
   ]
  },
  {
   "cell_type": "markdown",
   "metadata": {},
   "source": [
    "## Simulation"
   ]
  },
  {
   "cell_type": "code",
   "execution_count": null,
   "metadata": {},
   "outputs": [],
   "source": [
    "Bordeaux=np.where(polygons=='Gironde')[0][0]\n",
    "HDS=np.where(polygons=='Hauts-de-Seine')[0][0]\n",
    "AM=np.where(polygons=='Alpes-Maritimes')[0][0]\n",
    "PARIS=np.where(polygons=='Paris')[0][0]\n",
    "\n",
    "HDS_0,AM_0,PARIS_0=np.zeros(N),np.zeros(N),np.zeros(N)\n",
    "HDS_0[HDS]=100\n",
    "AM_0[AM]=100\n",
    "PARIS_0[PARIS]=100\n",
    "\n",
    "pop_like_0=np.array([round(100*(np.array(pop_vec)/np.sum(pop_vec))[i]) for i in range (N)])\n",
    "np.sum(pop_like_0)"
   ]
  },
  {
   "cell_type": "code",
   "execution_count": null,
   "metadata": {},
   "outputs": [],
   "source": [
    "params['beta']=beta#0.00068/9.1\n",
    "\n",
    "I_0=np.zeros((2,N))\n",
    "#I_0[0]=np.array(pop_like_0)\n",
    "#I_0[1]=np.array(HDS_0)\n",
    "I_0[0]=np.array(PARIS_0)\n",
    "I_0[1]=np.array(pop_like_0)\n",
    "E_0=I_0.copy()\n",
    "n=1000\n",
    "\n",
    "SOL_panel_check=np.zeros((2,n,6,2*len(Rij_vec)+1,N))\n",
    "for y,Y in enumerate (I_0):\n",
    "    I0_=Y.copy()\n",
    "    E0_=Y.copy()\n",
    "    for s in tqdm(range(n)):\n",
    "        SOL_panel_check[y][s]=(np.array(SEIIR_model(I0_,E0=E0_,Q=Q_2021_02_02,T=2*len(Rij_vec))))\n",
    "SOL_panel_check=np.array(SOL_panel_check)"
   ]
  },
  {
   "cell_type": "code",
   "execution_count": null,
   "metadata": {},
   "outputs": [],
   "source": [
    "with open('C:/Users/piero/Documents/PHD/eugenio/Fig1_SOL_1k.csv', 'wb') as f:\n",
    "    np.save(f, SOL_panel_check)"
   ]
  },
  {
   "cell_type": "code",
   "execution_count": null,
   "metadata": {},
   "outputs": [],
   "source": [
    "with open('C:/Users/piero/Documents/PHD/eugenio/SIMULS/Fig1_SOL_1k.csv', 'rb') as f:\n",
    "    SOL_panel_check = np.load(f)"
   ]
  },
  {
   "cell_type": "markdown",
   "metadata": {},
   "source": [
    "## Reproductive Numbers"
   ]
  },
  {
   "cell_type": "code",
   "execution_count": null,
   "metadata": {},
   "outputs": [],
   "source": [
    "d_print = [[np.sum(SOL_panel_check[ic,r,5],axis=1)[t],ic,r,t] for ic in range(len(SOL_panel_check)) for r in range(len(SOL_panel_check[0])) for t in range(len(SOL_panel_check[0,0,0]))] \n",
    "df_print = pd.DataFrame(data=d_print,columns=['incidence','IC','run','time'])\n",
    "display(df_print[:4])\n",
    "df_print.to_csv('C:/Users/piero/Documents/PHD/eugenio/Fig1_inc.csv',sep=',')"
   ]
  },
  {
   "cell_type": "code",
   "execution_count": null,
   "metadata": {},
   "outputs": [],
   "source": [
    "d_print_zproj = [[len(polygons)*np.dot(SOL_panel_check[ic,r,5,t],max_z),ic,r,t] for ic in range(len(SOL_panel_check)) for r in range(len(SOL_panel_check[0])) for t in range(len(SOL_panel_check[0,0,0]))] \n",
    "df_print_zproj = pd.DataFrame(data=d_print_zproj,columns=['incidence','IC','run','time'])\n",
    "display(df_print_zproj[:4])\n",
    "df_print_zproj.to_csv('C:/Users/piero/Documents/PHD/eugenio/Fig1_inc_zproj.csv',sep=',')"
   ]
  },
  {
   "cell_type": "code",
   "execution_count": null,
   "metadata": {},
   "outputs": [],
   "source": [
    "def s_calc_proj (SOL,Rij=Q_2021_02_02):\n",
    "    s_=np.zeros((len(SOL),len(SOL[0]),len(SOL[0][0][0]),len(SOL[0][0][0][0])))\n",
    "    S_=np.zeros((len(SOL),len(SOL[0]),len(SOL[0][0][0])))\n",
    "    S_zproj_=np.zeros((len(SOL),len(SOL[0]),len(SOL[0][0][0])))\n",
    "    for ic in tqdm(range (len(SOL))):\n",
    "        for run in range (len(SOL[0])):\n",
    "            for t in range (len(SOL[0][0][0])):\n",
    "                a=SOL[ic][run][2][t]+SOL[ic][run][3][t]\n",
    "                b=np.sum(SOL[ic][run][2][t]+SOL[ic][run][3][t],axis=0)\n",
    "                b_second=np.dot(SOL[ic][run][2][t]+SOL[ic][run][3][t],max_z)\n",
    "                c=np.divide(a, b, out=np.zeros_like(a), where=b!=0)\n",
    "                c_second=np.divide(a, b_second, out=np.zeros_like(a), where=b_second!=0)\n",
    "                sS=np.sum((Rij*(np.array([SOL[ic,run,0,t]*c/pop_vec]*len(polygons)))) ,axis=1)\n",
    "                sS_second=np.sum((Rij*(np.array([SOL[ic,run,0,t]*c_second/pop_vec]*len(polygons)))) ,axis=1)\n",
    "                s_[ic,run,t]=np.divide(sS,c,out=np.zeros_like(sS),where=c!=0)\n",
    "                S_[ic,run,t]=np.sum(sS,axis=0)\n",
    "                S_zproj_[ic,run,t]=np.dot(sS_second,max_z)\n",
    "    return [s_,S_,S_zproj_]\n",
    "\n",
    "s_S = s_calc_proj(SOL_panel_check)\n",
    "s_check=np.array(s_S[0])\n",
    "S_check=np.array(s_S[1])\n",
    "S_zproj_check=np.array(s_S[2])"
   ]
  },
  {
   "cell_type": "code",
   "execution_count": null,
   "metadata": {},
   "outputs": [],
   "source": [
    "def ws_calc (SOL,Q=Q_2021_02_02):\n",
    "    max_ws=[[[np.amax(np.linalg.eig(Q*(np.array([SOL[ic,run,0,t]/pop_vec]*len(polygons))))[0]) for t in range (len(SOL[0][0][0]))]for run in range (len(SOL[0]))]for ic in tqdm(range(len(SOL)))]\n",
    "    return (max_ws)\n",
    "\n",
    "max_w=ws_calc(SOL_panel_check)"
   ]
  },
  {
   "cell_type": "code",
   "execution_count": null,
   "metadata": {
    "tags": []
   },
   "outputs": [],
   "source": [
    "with open('C:/Users/piero/Documents/PHD/eugenio/maxw_Fig1_1k.csv', 'wb') as f:\n",
    "    np.save(f, max_w)"
   ]
  },
  {
   "cell_type": "code",
   "execution_count": null,
   "metadata": {},
   "outputs": [],
   "source": [
    "with open('C:/Users/piero/Documents/PHD/eugenio/SIMULS/maxw_Fig1_1k.csv', 'rb') as f:\n",
    "    max_w = np.load(f)"
   ]
  },
  {
   "cell_type": "code",
   "execution_count": null,
   "metadata": {},
   "outputs": [],
   "source": [
    "S_df_check = pd.read_csv('C:/Users/piero/Documents/PHD/eugenio/SIMULS/Fig1_epiS.csv',sep=',',engine='python')\n",
    "S_df_check_zproj = pd.read_csv('C:/Users/piero/Documents/PHD/eugenio/SIMULS/Fig1_epiS_zproj.csv',sep=',',engine='python')\n",
    "display(S_df_check[:5])"
   ]
  },
  {
   "cell_type": "code",
   "execution_count": null,
   "metadata": {},
   "outputs": [],
   "source": [
    "S_epi_check=np.zeros((len(S_check),len(S_check[0]),174))\n",
    "S_epi_check_zproj=np.zeros((len(S_check),len(S_check[0]),174))\n",
    "for ic in range(len(S_check)):\n",
    "    for r in range(len(S_check[0])):\n",
    "        a=S_df_check[S_df_check['IC']==ic]\n",
    "        a_zproj=S_df_check_zproj[S_df_check_zproj['IC']==ic]\n",
    "        S_epi_check[ic][r]=a[a['run']==r].iloc[:,0]\n",
    "        S_epi_check_zproj[ic][r]=a_zproj[a_zproj['run']==r].iloc[:,0]"
   ]
  },
  {
   "cell_type": "markdown",
   "metadata": {},
   "source": [
    "## Figures"
   ]
  },
  {
   "cell_type": "code",
   "execution_count": null,
   "metadata": {},
   "outputs": [],
   "source": [
    "def S_panel_plotter_Fig1(S,S_Epi,s,dim1=2,dim2=2,max_w_=max_w,end=[150,150],start=0,save=False,name='a',tit=None):\n",
    "    \n",
    "    fig,ax = plt.subplots(dim1,dim2,figsize=(16,9),dpi=300)\n",
    "    #c=['gold','tab:blue','dimgrey','r','orchid','coral']#previous R: dimgrey\n",
    "    c=['darkorange','tab:blue','dimgrey','r','orchid','coral']\n",
    "    x=np.linspace(0,len(S[0,0]),len(S[0,0]))\n",
    "    pref=params['beta']*(1-params['p_sc']+params['beta_I']*params['p_sc'])/params['mu']\n",
    "    w1=pref*np.amax(np.linalg.eig(Q_2021_02_02)[0])\n",
    "    fig.suptitle(tit,fontsize=20 )\n",
    "    sh=14\n",
    "    cp=sns.color_palette('gray_r',len(polygons))#+25)[:-25]\n",
    "    #cp=sns.color_palette('Purples',len(polygons))\n",
    "    cp1=cp[:-25]\n",
    "    cp2=cp[-25:]\n",
    "    cp=np.concatenate((cp2,cp1))\n",
    "\n",
    "    for i,a in enumerate (ax.reshape(-1)[:2]): #(1/(np.linalg.norm(max_v)**2))*\n",
    "        m=pref*np.percentile(S[i],50,axis=0)\n",
    "        CI=pref*np.array((np.percentile(S[i],2.5,axis=0),np.percentile(S[i],97.5,axis=0)))\n",
    "        m_Epi=np.percentile(S_Epi[i],50,axis=0)\n",
    "        CI_Epi=np.array((np.percentile(S_Epi[i],2.5,axis=0),np.percentile(S_Epi[i],97.5,axis=0)))\n",
    "        mw=pref*np.percentile(max_w_[i],50,axis=0)\n",
    "        CIw=pref*np.array((np.percentile(max_w_[i],2.5,axis=0),np.percentile(max_w_[i],97.5,axis=0)))\n",
    "        a.axhline(1,0,1,color=c[2],linestyle='dashed',alpha=1)#,label=r'$\\mathcal{R}_0=r[Q_0]$')\n",
    "        a.plot(x[start:end[i]],mw[start:end[i]],label=r'$R$',color=c[0])\n",
    "        a.fill_between(x[start:end[i]],CIw[0][start:end[i]],CIw[1][start:end[i]], color=c[0],alpha=.3)\n",
    "        a.plot(x[start:end[i]],m[start:end[i]],label=r'$S$',color=c[3])\n",
    "        a.fill_between(x[start:end[i]],CI[0][start:end[i]],CI[1][start:end[i]], color=c[3],alpha=.3)\n",
    "        a.plot(x[start+sh:end[i]],m_Epi[start+(sh-5):end[i]-5],label='EpiEstim',color=c[4])\n",
    "        a.fill_between(x[start+sh:end[i]],CI_Epi[0][start+(sh-5):end[i]-5],CI_Epi[1][start+(sh-5):end[i]-5], color=c[4],alpha=.3)\n",
    "        a.tick_params(axis='x', labelsize=0)\n",
    "        if i==1:\n",
    "            a.tick_params(axis='y',labelsize=0)\n",
    "        else:\n",
    "            a.tick_params(axis='y',labelsize=15)\n",
    "        #a.grid(alpha=.7,axis='x')\n",
    "        a.set_ylim([0,3])\n",
    "        a.set_xlim([0,100])\n",
    "        \n",
    "    handles, labels = a.get_legend_handles_labels()\n",
    "    fig.legend(handles, labels, ncol=1,bbox_to_anchor=(0.975, 0.95),bbox_transform=fig.transFigure, frameon=True,fontsize=15)#0.975,0.449/0.485/0.262\n",
    "        \n",
    "    for i,a in enumerate (ax.reshape(-1)[2:]): \n",
    "        m=(pref*np.percentile(s[i],50,axis=0))\n",
    "        m=np.where(m==0,np.nan,m)\n",
    "        mw=(pref*np.percentile(max_w_[i],50,axis=0))\n",
    "        CIw=(pref*np.array((np.percentile(max_w_[i],2.5,axis=0),np.percentile(max_w_[i],97.5,axis=0))))\n",
    "        order=(np.argsort(max_v))\n",
    "        #ordered_cp=[cp[j] for j in order]\n",
    "        #a.set_prop_cycle('color',sns.color_palette('copper',len(polygons)))\n",
    "        a.set_prop_cycle('color',cp)\n",
    "        #for dp in range (len(polygons))\n",
    "        a.axhline(1,0,1,color='dimgrey',linestyle='dashed',alpha=1)\n",
    "        a.plot(x[start:end[i]],mw[start:end[i]],label=r'$R$',color=c[0],alpha=1)#linewidth=3\n",
    "        a.axhline(4,0,1,color='tomato',alpha=1,label=r'$s_i$')\n",
    "        mT=m.T\n",
    "        for p in order:\n",
    "            a.plot(x[start:end[i]],mT[p][start:end[i]],alpha=1)#,color='mediumorchid')#,color=ordered_cp[dp])\n",
    "        print(len(m[start:end[i],0]))\n",
    "        #a.set_yscale('log')\n",
    "        a.tick_params(axis='x',labelsize=15)\n",
    "        if i==1:\n",
    "            a.tick_params(axis='y',labelsize=0)\n",
    "        else:\n",
    "            a.tick_params(axis='y',labelsize=15)\n",
    "        #a.grid(alpha=.7,axis='x')\n",
    "        a.set_ylim([0,3])\n",
    "        a.set_xlim([0,100])\n",
    "        a.set_xlabel('Days',fontsize=20)\n",
    "        \n",
    "    #fig.supylabel('Values',fontsize=20)\n",
    "    ax[0][0].set_ylabel('Reproduction ratio',fontsize=20)\n",
    "    ax[1][0].set_ylabel('Reproduction ratio',fontsize=20)\n",
    "    handles, labels = a.get_legend_handles_labels()\n",
    "    fig.legend(handles, labels, ncol=1,bbox_to_anchor=(0.975, 0.495),bbox_transform=fig.transFigure, frameon=True,fontsize=15)#0.975,0.449/0.485/0.262\n",
    "    fig.tight_layout()\n",
    "    if (save==True):\n",
    "        #fig.savefig('C:/Users/piero/Documents/PHD/eugenio/PLOTS/Fig1/'+str('/')+str(name))\n",
    "        fig.savefig('C:/Users/piero/Documents/PHD/eugenio/PLOTS/paper/Figure2.svg',bbox_inches='tight')\n",
    "        fig.savefig('C:/Users/piero/Documents/PHD/eugenio/PLOTS/paper/Figure2.pdf',bbox_inches='tight')"
   ]
  },
  {
   "cell_type": "code",
   "execution_count": null,
   "metadata": {},
   "outputs": [],
   "source": [
    "S_panel_plotter_Fig1(S_check,S_epi_check,s_check,max_w_=max_w,save=True,name='Fig1_together_grys_drkrng_July_w')"
   ]
  },
  {
   "cell_type": "code",
   "execution_count": null,
   "metadata": {},
   "outputs": [],
   "source": [
    "def S_vcorr_Fig4(S,S_proj,S_Epi,S_Epi_proj,dim1=1,dim2=2,proj=False,max_w_=max_w,end=[101,101],start=0,save=False,name='a',tit=None):\n",
    "    \n",
    "    fig,ax = plt.subplots(dim1,dim2,figsize=(16,5),dpi=300)\n",
    "    #c=['gold','tab:blue','dimgrey','r','orchid','coral']#previous R: dimgrey\n",
    "    c=['darkorange','tab:blue','dimgrey','r','orchid','coral']\n",
    "    x=np.linspace(0,len(S[0,0]),len(S[0,0]))\n",
    "    pref=params['beta']*(1-params['p_sc']+params['beta_I']*params['p_sc'])/params['mu']\n",
    "    w1=pref*np.amax(np.linalg.eig(Q_2021_02_02)[0])\n",
    "    fig.suptitle(tit,fontsize=20 )\n",
    "    sh=14\n",
    "\n",
    "    for i,a in enumerate (ax.reshape(-1)): #(1/(np.linalg.norm(max_v)**2))*\n",
    "        m=pref*np.percentile(S[i],50,axis=0)\n",
    "        CI=pref*np.array((np.percentile(S[i],2.5,axis=0),np.percentile(S[i],97.5,axis=0)))\n",
    "        m_proj=pref*np.percentile(S_proj[i],50,axis=0)\n",
    "        CI_proj=pref*np.array((np.percentile(S_proj[i],2.5,axis=0),np.percentile(S_proj[i],97.5,axis=0)))\n",
    "        m_Epi=np.percentile(S_Epi[i],50,axis=0)\n",
    "        CI_Epi=np.array((np.percentile(S_Epi[i],2.5,axis=0),np.percentile(S_Epi[i],97.5,axis=0)))\n",
    "        m_Epi_proj=np.percentile(S_Epi_proj[i],50,axis=0)\n",
    "        CI_Epi_proj=np.array((np.percentile(S_Epi_proj[i],2.5,axis=0),np.percentile(S_Epi_proj[i],97.5,axis=0)))\n",
    "        mw=pref*np.percentile(max_w_[i],50,axis=0)\n",
    "        CIw=pref*np.array((np.percentile(max_w_[i],2.5,axis=0),np.percentile(max_w_[i],97.5,axis=0)))\n",
    "        a.axhline(1,0,1,color=c[2],linestyle='dashed',alpha=1)#,label=r'$\\mathcal{R}_0=r[Q_0]$')\n",
    "        a.plot(x[start:end[i]],mw[start:end[i]],label=r'$R$',color=c[0])\n",
    "        a.fill_between(x[start:end[i]],CIw[0][start:end[i]],CIw[1][start:end[i]], color=c[0],alpha=.3)\n",
    "        a.plot(x[start:end[i]],m[start:end[i]],label=r'$S$',color=c[3])\n",
    "        a.fill_between(x[start:end[i]],CI[0][start:end[i]],CI[1][start:end[i]], color=c[3],alpha=.3)\n",
    "        a.plot(x[start+sh:end[i]],m_Epi[start+(sh-5):end[i]-5],label='EpiEstim',color=c[4])\n",
    "        a.fill_between(x[start+sh:end[i]],CI_Epi[0][start+(sh-5):end[i]-5],CI_Epi[1][start+(sh-5):end[i]-5], color=c[4],alpha=.3)\n",
    "        if(proj==True):\n",
    "            a.plot(x[start:end[i]],m_proj[start:end[i]],label=r'$S^{(v)}$',color='tab:blue')\n",
    "            a.fill_between(x[start:end[i]],CI_proj[0][start:end[i]],CI_proj[1][start:end[i]], color='tab:blue',alpha=.3)\n",
    "            a.plot(x[start+sh:end[i]],m_Epi_proj[start+(sh-5):end[i]-5],label=r'EpiEstim$^{(v)}$',color='lightsteelblue')#cornflowerblue\n",
    "            a.fill_between(x[start+sh:end[i]],CI_Epi_proj[0][start+(sh-5):end[i]-5],CI_Epi_proj[1][start+(sh-5):end[i]-5], color='lightsteelblue',alpha=.3)\n",
    "        a.tick_params(axis='x',labelsize=15)\n",
    "        if i==0:\n",
    "            a.tick_params(axis='y', labelsize=15)\n",
    "            a.set_ylabel('Reproduction ratio',fontsize=20)\n",
    "        else:\n",
    "            a.tick_params(axis='y', labelsize=0)\n",
    "        #a.grid(alpha=.7,axis='x')\n",
    "        a.set_ylim([0,3])\n",
    "        a.set_xlim([0,100])\n",
    "        a.set_xlabel('Days',fontsize=20)\n",
    "    #fig.supylabel('Values',fontsize=20)\n",
    "    handles, labels = a.get_legend_handles_labels()\n",
    "    fig.legend(handles, labels, ncol=2,bbox_to_anchor=(0.975, 0.915),bbox_transform=fig.transFigure, frameon=True,fontsize=15)#0.975,0.449/0.485/0.262\n",
    "    fig.tight_layout()\n",
    "    if (save==True):\n",
    "        #fig.savefig('C:/Users/piero/Documents/PHD/eugenio/PLOTS/Fig1/'+str('/')+str(name))\n",
    "        fig.savefig('C:/Users/piero/Documents/PHD/eugenio/PLOTS/paper/Figure3.svg',bbox_inches='tight')\n",
    "        fig.savefig('C:/Users/piero/Documents/PHD/eugenio/PLOTS/paper/Figure3.pdf',bbox_inches='tight')"
   ]
  },
  {
   "cell_type": "code",
   "execution_count": null,
   "metadata": {},
   "outputs": [],
   "source": [
    "S_vcorr_Fig4(S_check,S_zproj_check,S_epi_check,S_epi_check_zproj,max_w_=max_w,proj=True,save=True,name='Fig4_hor_drkrng_July_w')"
   ]
  },
  {
   "cell_type": "code",
   "execution_count": null,
   "metadata": {},
   "outputs": [],
   "source": []
  }
 ],
 "metadata": {
  "kernelspec": {
   "display_name": "Python 3 (ipykernel)",
   "language": "python",
   "name": "python3"
  },
  "language_info": {
   "codemirror_mode": {
    "name": "ipython",
    "version": 3
   },
   "file_extension": ".py",
   "mimetype": "text/x-python",
   "name": "python",
   "nbconvert_exporter": "python",
   "pygments_lexer": "ipython3",
   "version": "3.9.12"
  }
 },
 "nbformat": 4,
 "nbformat_minor": 4
}
